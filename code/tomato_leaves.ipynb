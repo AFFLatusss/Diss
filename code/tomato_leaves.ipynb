{
 "cells": [
  {
   "cell_type": "code",
   "execution_count": 1,
   "metadata": {},
   "outputs": [],
   "source": [
    "from split_data import split\n",
    "import numpy as np\n",
    "import torch\n",
    "from torchvision.datasets import ImageFolder\n",
    "import torch.nn as nn\n",
    "from torch.utils.data.dataloader import DataLoader\n",
    "from torch.utils.data import random_split\n",
    "from utils import *\n"
   ]
  },
  {
   "cell_type": "code",
   "execution_count": 2,
   "metadata": {},
   "outputs": [
    {
     "name": "stdout",
     "output_type": "stream",
     "text": [
      "Using mps\n"
     ]
    }
   ],
   "source": [
    "if torch.backends.mps.is_available():\n",
    "    device = torch.device(\"mps\")\n",
    "elif torch.cuda.is_available():\n",
    "    device = torch.device(\"cuda\")\n",
    "else:\n",
    "    device = torch.device(\"cpu\")\n",
    "\n",
    "print(f\"Using {device}\")"
   ]
  },
  {
   "cell_type": "code",
   "execution_count": 3,
   "metadata": {},
   "outputs": [
    {
     "name": "stdout",
     "output_type": "stream",
     "text": [
      "Finish splitting Tomato___Target_Spot\n",
      "[Training Samples:983, Testing Samples:421]   Original Samples:1404\n",
      "---------------------\n",
      "Finish splitting Tomato___Late_blight\n",
      "[Training Samples:1336, Testing Samples:573]   Original Samples:1909\n",
      "---------------------\n",
      "Finish splitting Tomato___Tomato_mosaic_virus\n",
      "[Training Samples:700, Testing Samples:300]   Original Samples:1000\n",
      "---------------------\n",
      "Finish splitting Tomato___Leaf_Mold\n",
      "[Training Samples:700, Testing Samples:300]   Original Samples:1000\n",
      "---------------------\n",
      "Finish splitting Tomato___Bacterial_spot\n",
      "[Training Samples:1489, Testing Samples:638]   Original Samples:2127\n",
      "---------------------\n",
      "Finish splitting Tomato___Early_blight\n",
      "[Training Samples:700, Testing Samples:300]   Original Samples:1000\n",
      "---------------------\n",
      "Finish splitting Tomato___healthy\n",
      "[Training Samples:1114, Testing Samples:477]   Original Samples:1591\n",
      "---------------------\n",
      "Finish splitting Tomato___Tomato_Yellow_Leaf_Curl_Virus\n",
      "[Training Samples:3750, Testing Samples:1607]   Original Samples:5357\n",
      "---------------------\n",
      "Finish splitting Tomato___Spider_mites Two-spotted_spider_mite\n",
      "[Training Samples:1173, Testing Samples:503]   Original Samples:1676\n",
      "---------------------\n",
      "Finish splitting Background_without_leaves\n",
      "[Training Samples:800, Testing Samples:343]   Original Samples:1143\n",
      "---------------------\n",
      "Finish splitting Tomato___Septoria_leaf_spot\n",
      "[Training Samples:1240, Testing Samples:531]   Original Samples:1771\n",
      "---------------------\n",
      "Total Training Samples: 13985, Testing Samples: 5993, Total Samples: 19978\n"
     ]
    }
   ],
   "source": [
    "source_path = \"../Data/Augmentation/Tomato\"\n",
    "training_path = \"../train_data/\"\n",
    "testing_path = \"../test_data/\"\n",
    "train_test_ratio = 0.7\n",
    "split(source_path, training_path, testing_path, train_test_ratio) "
   ]
  }
 ],
 "metadata": {
  "kernelspec": {
   "display_name": "man",
   "language": "python",
   "name": "python3"
  },
  "language_info": {
   "codemirror_mode": {
    "name": "ipython",
    "version": 3
   },
   "file_extension": ".py",
   "mimetype": "text/x-python",
   "name": "python",
   "nbconvert_exporter": "python",
   "pygments_lexer": "ipython3",
   "version": "3.8.15"
  },
  "orig_nbformat": 4
 },
 "nbformat": 4,
 "nbformat_minor": 2
}
