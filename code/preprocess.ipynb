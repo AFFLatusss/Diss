{
 "cells": [
  {
   "cell_type": "code",
   "execution_count": 2,
   "metadata": {},
   "outputs": [],
   "source": [
    "import shutil\n",
    "import numpy as np\n",
    "import os\n",
    "import argparse"
   ]
  },
  {
   "cell_type": "code",
   "execution_count": 3,
   "metadata": {},
   "outputs": [],
   "source": [
    "def get_files_from_folder(path):\n",
    "    files = os.listdir(path)\n",
    "    return np.asarray(files)\n"
   ]
  },
  {
   "cell_type": "code",
   "execution_count": 4,
   "metadata": {},
   "outputs": [],
   "source": [
    "def parse_args():\n",
    "    parser = argparse.ArgumentParser(description=\"Dataset divider\")\n",
    "    parser.add_argument(\"--source\", required=True, \n",
    "                        help=\"path to source file\")\n",
    "    parser.add_argument(\"--train target\", required=True, \n",
    "                        help=\"path to save training data\")\n",
    "    parser.add_argument(\"--test target\", required=True, \n",
    "                        help=\"path to save testing data\")\n",
    "    parser.add_argument(\"--ratio\", required=True, \n",
    "                        help=\"Train ratio, E.g. 0.7 means splitting data into 70% training and 30% testting\")\n",
    "    return parser.parse_args()"
   ]
  },
  {
   "cell_type": "code",
   "execution_count": 71,
   "metadata": {},
   "outputs": [],
   "source": [
    "def main(source, train_path, test_path,train_ratio):\n",
    "    #get dirs\n",
    "    _, dirs, _ = next(os.walk(source))\n",
    "\n",
    "    #count how many entry per class\n",
    "    count_per_class = np.zeros(len(dirs)) #create array to store number of entry per class\n",
    "    for i in range(len(dirs)):\n",
    "        path = os.path.join(source, dirs[i]) #join source data path with the class folder\n",
    "        files = get_files_from_folder(path) #get files from folder and put it in array\n",
    "        count_per_class[i] = len(files) #count number of entries and store it in array for this class\n",
    "\n",
    "    count_test_per_class = np.round(count_per_class * (1 - train_ratio)) #how many entries per class for test \n",
    "\n",
    "    #transfer files from source to target\n",
    "    for i in range(len(dirs)):\n",
    "        class_source_path = os.path.join(source, dirs[i]) #get source path to class folder\n",
    "\n",
    "\n",
    "        class_train_path = os.path.join(train_path, dirs[i]) #target path to the class folder\n",
    "        class_test_path = os.path.join(test_path, dirs[i]) #target path to the class folder\n",
    "\n",
    "        if not os.path.exists(class_train_path):\n",
    "            os.makedirs(class_train_path) #create directory if not exist\n",
    "        \n",
    "        if not os.path.exists(class_test_path):\n",
    "            os.makedirs(class_test_path) #create directory if not exist\n",
    "\n",
    "        files = get_files_from_folder(class_source_path)\n",
    "\n",
    "        #transfer test data from source to test folder\n",
    "        for j in range(int(count_test_per_class[i])):\n",
    "            target_file = os.path.join(class_test_path, files[j])\n",
    "            source_file = os.path.join(class_source_path, files[j])\n",
    "            shutil.copy(source_file, target_file)\n",
    "            \n",
    "        #transfer training data from source to target folder\n",
    "        for k in range(int(count_test_per_class[i]), int(count_per_class[i])):\n",
    "            target_file = os.path.join(class_train_path, files[k])\n",
    "            source_file = os.path.join(class_source_path, files[k])\n",
    "            shutil.copy(source_file, target_file)\n",
    "\n",
    "\n",
    "\n",
    "        if len(os.listdir(class_test_path)) + len(os.listdir(class_train_path)) !=  len(os.listdir(class_source_path)):\n",
    "            print(f\"Split sum is {len(os.listdir(class_test_path)) + len(os.listdir(class_train_path))}, should be {len(os.listdir(class_source_path))}\")\n",
    "            print(\"Entry number incorrect\")\n",
    "        else:\n",
    "            print(\"---------------------\")\n",
    "            print(f\"Finish splitting Class {i}\")\n",
    "            print(f\"NO. Training Samples:{len(os.listdir(class_train_path))}     Original NO. Samples:{len(os.listdir(class_source_path))}\")\n",
    "            print(f'NO. Testing Samples:{len(os.listdir(class_test_path))}')\n",
    "            \n",
    "\n",
    "                "
   ]
  },
  {
   "cell_type": "code",
   "execution_count": 72,
   "metadata": {},
   "outputs": [
    {
     "name": "stdout",
     "output_type": "stream",
     "text": [
      "[ 83. 189. 186. 494.]\n",
      "[ 275.  630.  621. 1645.]\n",
      "---------------------\n",
      "Finish splitting Class 0\n",
      "NO. Training Samples:192     Original NO. Samples:275\n",
      "NO. Testing Samples:83\n",
      "---------------------\n",
      "Finish splitting Class 1\n",
      "NO. Training Samples:441     Original NO. Samples:630\n",
      "NO. Testing Samples:189\n",
      "---------------------\n",
      "Finish splitting Class 2\n",
      "NO. Training Samples:435     Original NO. Samples:621\n",
      "NO. Testing Samples:186\n",
      "---------------------\n",
      "Finish splitting Class 3\n",
      "NO. Training Samples:1151     Original NO. Samples:1645\n",
      "NO. Testing Samples:494\n"
     ]
    }
   ],
   "source": [
    "main(\"../Data/Original/Apple\",\"../training_data/\", \"../test_data/\",0.7)"
   ]
  }
 ],
 "metadata": {
  "kernelspec": {
   "display_name": "man",
   "language": "python",
   "name": "python3"
  },
  "language_info": {
   "codemirror_mode": {
    "name": "ipython",
    "version": 3
   },
   "file_extension": ".py",
   "mimetype": "text/x-python",
   "name": "python",
   "nbconvert_exporter": "python",
   "pygments_lexer": "ipython3",
   "version": "3.8.15"
  },
  "orig_nbformat": 4
 },
 "nbformat": 4,
 "nbformat_minor": 2
}
