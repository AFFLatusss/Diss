{
 "cells": [
  {
   "cell_type": "code",
   "execution_count": 1,
   "metadata": {},
   "outputs": [
    {
     "name": "stdout",
     "output_type": "stream",
     "text": [
      "Imported\n"
     ]
    }
   ],
   "source": [
    "from split_data import split"
   ]
  },
  {
   "cell_type": "code",
   "execution_count": 3,
   "metadata": {},
   "outputs": [
    {
     "name": "stdout",
     "output_type": "stream",
     "text": [
      "---------------------\n",
      "Finish splitting Apple___Cedar_apple_rust\n",
      "[Training Samples:137, Testing Samples:138]   Original Samples:275\n",
      "---------------------\n",
      "Finish splitting Apple___Apple_scab\n",
      "[Training Samples:315, Testing Samples:315]   Original Samples:630\n",
      "---------------------\n",
      "Finish splitting Apple___Black_rot\n",
      "[Training Samples:311, Testing Samples:310]   Original Samples:621\n",
      "---------------------\n",
      "Finish splitting Apple___healthy\n",
      "[Training Samples:823, Testing Samples:822]   Original Samples:1645\n"
     ]
    }
   ],
   "source": [
    "split(\"../Data/Original/Apple\", \"../training_data/\", \"../test_data/\", 0.5)\n"
   ]
  }
 ],
 "metadata": {
  "kernelspec": {
   "display_name": "man",
   "language": "python",
   "name": "python3"
  },
  "language_info": {
   "codemirror_mode": {
    "name": "ipython",
    "version": 3
   },
   "file_extension": ".py",
   "mimetype": "text/x-python",
   "name": "python",
   "nbconvert_exporter": "python",
   "pygments_lexer": "ipython3",
   "version": "3.8.15"
  },
  "orig_nbformat": 4
 },
 "nbformat": 4,
 "nbformat_minor": 2
}
