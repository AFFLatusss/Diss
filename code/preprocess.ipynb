{
 "cells": [
  {
   "cell_type": "code",
   "execution_count": 1,
   "metadata": {},
   "outputs": [],
   "source": [
    "import shutil\n",
    "import numpy as np\n",
    "import os\n",
    "import argparse"
   ]
  },
  {
   "cell_type": "code",
   "execution_count": 2,
   "metadata": {},
   "outputs": [],
   "source": [
    "def get_files_from_folder(path):\n",
    "    files = os.listdir(path)\n",
    "    return np.asarray(files)\n"
   ]
  },
  {
   "cell_type": "code",
   "execution_count": 4,
   "metadata": {},
   "outputs": [
    {
     "data": {
      "text/plain": [
       "array(['image (326).JPG', 'image (263).JPG', 'image (371).JPG',\n",
       "       'image (234).JPG', 'image (408).JPG', 'image (367).JPG',\n",
       "       'image (388).JPG', 'image (222).JPG', 'image (330).JPG',\n",
       "       'image (275).JPG', 'image (625).JPG', 'image (449).JPG',\n",
       "       'image (432).JPG', 'image (598).JPG', 'image (71).JPG',\n",
       "       'image (577).JPG', 'image (127).JPG', 'image (609).JPG',\n",
       "       'image (259).JPG', 'image (26).JPG', 'image (465).JPG',\n",
       "       'image (170).JPG', 'image (520).JPG', 'image (5).JPG',\n",
       "       'image (473).JPG', 'image (189).JPG', 'image (30).JPG',\n",
       "       'image (536).JPG', 'image (166).JPG', 'image (218).JPG',\n",
       "       'image (67).JPG', 'image (424).JPG', 'image (131).JPG',\n",
       "       'image (88).JPG', 'image (561).JPG', 'image (516).JPG',\n",
       "       'image (146).JPG', 'image (453).JPG', 'image (10).JPG',\n",
       "       'image (280).JPG', 'image (111).JPG', 'image (541).JPG',\n",
       "       'image (47).JPG', 'image (404).JPG', 'image (392).JPG',\n",
       "       'image (238).JPG', 'image (557).JPG', 'image (107).JPG',\n",
       "       'image (412).JPG', 'image (51).JPG', 'image (384).JPG',\n",
       "       'image (150).JPG', 'image (500).JPG', 'image (445).JPG',\n",
       "       'image (296).JPG', 'image (629).JPG', 'image (279).JPG',\n",
       "       'image (594).JPG', 'image (92).JPG', 'image (202).JPG',\n",
       "       'image (347).JPG', 'image (469).JPG', 'image (193).JPG',\n",
       "       'image (9).JPG', 'image (486).JPG', 'image (255).JPG',\n",
       "       'image (605).JPG', 'image (310).JPG', 'image (185).JPG',\n",
       "       'image (490).JPG', 'image (613).JPG', 'image (243).JPG',\n",
       "       'image (306).JPG', 'image (428).JPG', 'image (582).JPG',\n",
       "       'image (84).JPG', 'image (214).JPG', 'image (351).JPG',\n",
       "       'image (215).JPG', 'image (350).JPG', 'image (429).JPG',\n",
       "       'image (583).JPG', 'image (85).JPG', 'image (612).JPG',\n",
       "       'image (242).JPG', 'image (307).JPG', 'image (184).JPG',\n",
       "       'image (491).JPG', 'image (254).JPG', 'image (604).JPG',\n",
       "       'image (311).JPG', 'image (468).JPG', 'image (192).JPG',\n",
       "       'image (8).JPG', 'image (487).JPG', 'image (203).JPG',\n",
       "       'image (346).JPG', 'image (595).JPG', 'image (93).JPG',\n",
       "       'image (297).JPG', 'image (628).JPG', 'image (278).JPG',\n",
       "       'image (151).JPG', 'image (501).JPG', 'image (444).JPG',\n",
       "       'image (385).JPG', 'image (556).JPG', 'image (106).JPG',\n",
       "       'image (413).JPG', 'image (50).JPG', 'image (393).JPG',\n",
       "       'image (239).JPG', 'image (110).JPG', 'image (540).JPG',\n",
       "       'image (46).JPG', 'image (405).JPG', 'image (281).JPG',\n",
       "       'image (517).JPG', 'image (147).JPG', 'image (452).JPG',\n",
       "       'image (11).JPG', 'image (66).JPG', 'image (425).JPG',\n",
       "       'image (130).JPG', 'image (89).JPG', 'image (560).JPG',\n",
       "       'image (219).JPG', 'image (472).JPG', 'image (188).JPG',\n",
       "       'image (31).JPG', 'image (537).JPG', 'image (167).JPG',\n",
       "       'image (27).JPG', 'image (464).JPG', 'image (171).JPG',\n",
       "       'image (4).JPG', 'image (521).JPG', 'image (608).JPG',\n",
       "       'image (258).JPG', 'image (433).JPG', 'image (599).JPG',\n",
       "       'image (70).JPG', 'image (576).JPG', 'image (126).JPG',\n",
       "       'image (448).JPG', 'image (331).JPG', 'image (274).JPG',\n",
       "       'image (624).JPG', 'image (366).JPG', 'image (389).JPG',\n",
       "       'image (223).JPG', 'image (409).JPG', 'image (370).JPG',\n",
       "       'image (235).JPG', 'image (327).JPG', 'image (262).JPG',\n",
       "       'image (510).JPG', 'image (140).JPG', 'image (455).JPG',\n",
       "       'image (16).JPG', 'image (286).JPG', 'image (269).JPG',\n",
       "       'image (117).JPG', 'image (547).JPG', 'image (41).JPG',\n",
       "       'image (402).JPG', 'image (394).JPG', 'image (551).JPG',\n",
       "       'image (101).JPG', 'image (414).JPG', 'image (57).JPG',\n",
       "       'image (228).JPG', 'image (382).JPG', 'image (156).JPG',\n",
       "       'image (506).JPG', 'image (443).JPG', 'image (290).JPG',\n",
       "       'image (592).JPG', 'image (438).JPG', 'image (94).JPG',\n",
       "       'image (204).JPG', 'image (341).JPG', 'image (195).JPG',\n",
       "       'image (480).JPG', 'image (253).JPG', 'image (603).JPG',\n",
       "       'image (316).JPG', 'image (479).JPG', 'image (183).JPG',\n",
       "       'image (496).JPG', 'image (615).JPG', 'image (245).JPG',\n",
       "       'image (300).JPG', 'image (584).JPG', 'image (82).JPG',\n",
       "       'image (212).JPG', 'image (357).JPG', 'image (320).JPG',\n",
       "       'image (265).JPG', 'image (459).JPG', 'image (377).JPG',\n",
       "       'image (232).JPG', 'image (398).JPG', 'image (361).JPG',\n",
       "       'image (224).JPG', 'image (418).JPG', 'image (336).JPG',\n",
       "       'image (273).JPG', 'image (623).JPG', 'image (208).JPG',\n",
       "       'image (434).JPG', 'image (77).JPG', 'image (98).JPG',\n",
       "       'image (571).JPG', 'image (121).JPG', 'image (20).JPG',\n",
       "       'image (463).JPG', 'image (199).JPG', 'image (176).JPG',\n",
       "       'image (526).JPG', 'image (3).JPG', 'image (249).JPG',\n",
       "       'image (619).JPG', 'image (475).JPG', 'image (36).JPG',\n",
       "       'image (530).JPG', 'image (160).JPG', 'image (588).JPG',\n",
       "       'image (61).JPG', 'image (422).JPG', 'image (137).JPG',\n",
       "       'image (567).JPG', 'image (589).JPG', 'image (60).JPG',\n",
       "       'image (423).JPG', 'image (136).JPG', 'image (566).JPG',\n",
       "       'image (474).JPG', 'image (37).JPG', 'image (531).JPG',\n",
       "       'image (161).JPG', 'image (248).JPG', 'image (618).JPG',\n",
       "       'image (21).JPG', 'image (462).JPG', 'image (198).JPG',\n",
       "       'image (177).JPG', 'image (2).JPG', 'image (527).JPG',\n",
       "       'image (435).JPG', 'image (76).JPG', 'image (99).JPG',\n",
       "       'image (570).JPG', 'image (120).JPG', 'image (209).JPG',\n",
       "       'image (337).JPG', 'image (272).JPG', 'image (622).JPG',\n",
       "       'image (419).JPG', 'image (360).JPG', 'image (225).JPG',\n",
       "       'image (376).JPG', 'image (233).JPG', 'image (399).JPG',\n",
       "       'image (458).JPG', 'image (321).JPG', 'image (264).JPG',\n",
       "       'image (213).JPG', 'image (356).JPG', 'image (585).JPG',\n",
       "       'image (83).JPG', 'image (614).JPG', 'image (244).JPG',\n",
       "       'image (301).JPG', 'image (478).JPG', 'image (182).JPG',\n",
       "       'image (497).JPG', 'image (252).JPG', 'image (602).JPG',\n",
       "       'image (317).JPG', 'image (194).JPG', 'image (481).JPG',\n",
       "       'image (205).JPG', 'image (340).JPG', 'image (593).JPG',\n",
       "       'image (439).JPG', 'image (95).JPG', 'image (291).JPG',\n",
       "       'image (157).JPG', 'image (507).JPG', 'image (442).JPG',\n",
       "       'image (229).JPG', 'image (383).JPG', 'image (550).JPG',\n",
       "       'image (100).JPG', 'image (415).JPG', 'image (56).JPG',\n",
       "       'image (395).JPG', 'image (116).JPG', 'image (546).JPG',\n",
       "       'image (40).JPG', 'image (403).JPG', 'image (287).JPG',\n",
       "       'image (268).JPG', 'image (511).JPG', 'image (141).JPG',\n",
       "       'image (454).JPG', 'image (17).JPG', 'image (355).JPG',\n",
       "       'image (210).JPG', 'image (569).JPG', 'image (80).JPG',\n",
       "       'image (139).JPG', 'image (586).JPG', 'image (302).JPG',\n",
       "       'image (617).JPG', 'image (247).JPG', 'image (494).JPG',\n",
       "       'image (38).JPG', 'image (181).JPG', 'image (314).JPG',\n",
       "       'image (251).JPG', 'image (601).JPG', 'image (528).JPG',\n",
       "       'image (178).JPG', 'image (482).JPG', 'image (197).JPG',\n",
       "       'image (343).JPG', 'image (206).JPG', 'image (96).JPG',\n",
       "       'image (79).JPG', 'image (590).JPG', 'image (292).JPG',\n",
       "       'image (338).JPG', 'image (441).JPG', 'image (154).JPG',\n",
       "       'image (504).JPG', 'image (380).JPG', 'image (416).JPG',\n",
       "       'image (55).JPG', 'image (553).JPG', 'image (103).JPG',\n",
       "       'image (396).JPG', 'image (379).JPG', 'image (43).JPG',\n",
       "       'image (400).JPG', 'image (115).JPG', 'image (545).JPG',\n",
       "       'image (284).JPG', 'image (457).JPG', 'image (14).JPG',\n",
       "       'image (512).JPG', 'image (142).JPG', 'image (135).JPG',\n",
       "       'image (565).JPG', 'image (63).JPG', 'image (420).JPG',\n",
       "       'image (359).JPG', 'image (532).JPG', 'image (162).JPG',\n",
       "       'image (498).JPG', 'image (477).JPG', 'image (34).JPG',\n",
       "       'image (174).JPG', 'image (1).JPG', 'image (524).JPG',\n",
       "       'image (22).JPG', 'image (461).JPG', 'image (318).JPG',\n",
       "       'image (573).JPG', 'image (123).JPG', 'image (436).JPG',\n",
       "       'image (75).JPG', 'image (508).JPG', 'image (158).JPG',\n",
       "       'image (271).JPG', 'image (621).JPG', 'image (334).JPG',\n",
       "       'image (59).JPG', 'image (226).JPG', 'image (363).JPG',\n",
       "       'image (549).JPG', 'image (119).JPG', 'image (230).JPG',\n",
       "       'image (375).JPG', 'image (18).JPG', 'image (267).JPG',\n",
       "       'image (288).JPG', 'image (322).JPG', 'image (266).JPG',\n",
       "       'image (289).JPG', 'image (323).JPG', 'image (19).JPG',\n",
       "       'image (231).JPG', 'image (374).JPG', 'image (548).JPG',\n",
       "       'image (118).JPG', 'image (227).JPG', 'image (362).JPG',\n",
       "       'image (58).JPG', 'image (270).JPG', 'image (620).JPG',\n",
       "       'image (335).JPG', 'image (509).JPG', 'image (159).JPG',\n",
       "       'image (572).JPG', 'image (122).JPG', 'image (437).JPG',\n",
       "       'image (74).JPG', 'image (319).JPG', 'image (175).JPG',\n",
       "       'image (525).JPG', 'image (23).JPG', 'image (460).JPG',\n",
       "       'image (533).JPG', 'image (163).JPG', 'image (499).JPG',\n",
       "       'image (476).JPG', 'image (35).JPG', 'image (358).JPG',\n",
       "       'image (134).JPG', 'image (564).JPG', 'image (62).JPG',\n",
       "       'image (421).JPG', 'image (456).JPG', 'image (15).JPG',\n",
       "       'image (513).JPG', 'image (143).JPG', 'image (285).JPG',\n",
       "       'image (42).JPG', 'image (401).JPG', 'image (114).JPG',\n",
       "       'image (544).JPG', 'image (397).JPG', 'image (378).JPG',\n",
       "       'image (417).JPG', 'image (54).JPG', 'image (552).JPG',\n",
       "       'image (102).JPG', 'image (381).JPG', 'image (440).JPG',\n",
       "       'image (155).JPG', 'image (505).JPG', 'image (293).JPG',\n",
       "       'image (339).JPG', 'image (97).JPG', 'image (78).JPG',\n",
       "       'image (591).JPG', 'image (342).JPG', 'image (207).JPG',\n",
       "       'image (529).JPG', 'image (179).JPG', 'image (483).JPG',\n",
       "       'image (196).JPG', 'image (315).JPG', 'image (250).JPG',\n",
       "       'image (600).JPG', 'image (495).JPG', 'image (39).JPG',\n",
       "       'image (180).JPG', 'image (303).JPG', 'image (616).JPG',\n",
       "       'image (246).JPG', 'image (568).JPG', 'image (81).JPG',\n",
       "       'image (138).JPG', 'image (587).JPG', 'image (354).JPG',\n",
       "       'image (211).JPG', 'image (133).JPG', 'image (563).JPG',\n",
       "       'image (65).JPG', 'image (426).JPG', 'image (534).JPG',\n",
       "       'image (164).JPG', 'image (471).JPG', 'image (32).JPG',\n",
       "       'image (308).JPG', 'image (172).JPG', 'image (488).JPG',\n",
       "       'image (7).JPG', 'image (522).JPG', 'image (24).JPG',\n",
       "       'image (467).JPG', 'image (575).JPG', 'image (125).JPG',\n",
       "       'image (430).JPG', 'image (73).JPG', 'image (349).JPG',\n",
       "       'image (277).JPG', 'image (627).JPG', 'image (332).JPG',\n",
       "       'image (298).JPG', 'image (109).JPG', 'image (559).JPG',\n",
       "       'image (220).JPG', 'image (365).JPG', 'image (49).JPG',\n",
       "       'image (236).JPG', 'image (373).JPG', 'image (148).JPG',\n",
       "       'image (518).JPG', 'image (261).JPG', 'image (324).JPG',\n",
       "       'image (353).JPG', 'image (216).JPG', 'image (86).JPG',\n",
       "       'image (69).JPG', 'image (580).JPG', 'image (304).JPG',\n",
       "       'image (611).JPG', 'image (241).JPG', 'image (168).JPG',\n",
       "       'image (492).JPG', 'image (538).JPG', 'image (187).JPG',\n",
       "       'image (312).JPG', 'image (257).JPG', 'image (607).JPG',\n",
       "       'image (484).JPG', 'image (191).JPG', 'image (28).JPG',\n",
       "       'image (345).JPG', 'image (200).JPG', 'image (129).JPG',\n",
       "       'image (579).JPG', 'image (90).JPG', 'image (596).JPG',\n",
       "       'image (294).JPG', 'image (447).JPG', 'image (152).JPG',\n",
       "       'image (502).JPG', 'image (386).JPG', 'image (369).JPG',\n",
       "       'image (410).JPG', 'image (53).JPG', 'image (555).JPG',\n",
       "       'image (105).JPG', 'image (390).JPG', 'image (45).JPG',\n",
       "       'image (406).JPG', 'image (113).JPG', 'image (543).JPG',\n",
       "       'image (328).JPG', 'image (282).JPG', 'image (451).JPG',\n",
       "       'image (12).JPG', 'image (514).JPG', 'image (144).JPG',\n",
       "       'image (450).JPG', 'image (13).JPG', 'image (515).JPG',\n",
       "       'image (145).JPG', 'image (329).JPG', 'image (283).JPG',\n",
       "       'image (44).JPG', 'image (407).JPG', 'image (112).JPG',\n",
       "       'image (542).JPG', 'image (391).JPG', 'image (411).JPG',\n",
       "       'image (52).JPG', 'image (554).JPG', 'image (104).JPG',\n",
       "       'image (387).JPG', 'image (368).JPG', 'image (446).JPG',\n",
       "       'image (153).JPG', 'image (503).JPG', 'image (295).JPG',\n",
       "       'image (128).JPG', 'image (578).JPG', 'image (91).JPG',\n",
       "       'image (597).JPG', 'image (344).JPG', 'image (201).JPG',\n",
       "       'image (485).JPG', 'image (190).JPG', 'image (29).JPG',\n",
       "       'image (313).JPG', 'image (256).JPG', 'image (606).JPG',\n",
       "       'image (169).JPG', 'image (493).JPG', 'image (539).JPG',\n",
       "       'image (186).JPG', 'image (305).JPG', 'image (610).JPG',\n",
       "       'image (240).JPG', 'image (87).JPG', 'image (68).JPG',\n",
       "       'image (581).JPG', 'image (352).JPG', 'image (217).JPG',\n",
       "       'image (630).JPG', 'image (260).JPG', 'image (325).JPG',\n",
       "       'image (149).JPG', 'image (519).JPG', 'image (237).JPG',\n",
       "       'image (372).JPG', 'image (48).JPG', 'image (221).JPG',\n",
       "       'image (364).JPG', 'image (108).JPG', 'image (558).JPG',\n",
       "       'image (276).JPG', 'image (626).JPG', 'image (333).JPG',\n",
       "       'image (299).JPG', 'image (348).JPG', 'image (574).JPG',\n",
       "       'image (124).JPG', 'image (431).JPG', 'image (72).JPG',\n",
       "       'image (173).JPG', 'image (489).JPG', 'image (523).JPG',\n",
       "       'image (6).JPG', 'image (25).JPG', 'image (466).JPG',\n",
       "       'image (309).JPG', 'image (535).JPG', 'image (165).JPG',\n",
       "       'image (470).JPG', 'image (33).JPG', 'image (132).JPG',\n",
       "       'image (562).JPG', 'image (64).JPG', 'image (427).JPG'],\n",
       "      dtype='<U15')"
      ]
     },
     "execution_count": 4,
     "metadata": {},
     "output_type": "execute_result"
    }
   ],
   "source": [
    "get_files_from_folder(\"../Data/Plant_without_augmentation/Apple___Apple_scab\")"
   ]
  },
  {
   "cell_type": "code",
   "execution_count": 5,
   "metadata": {},
   "outputs": [],
   "source": [
    "def parse_args():\n",
    "    parser = argparse.ArgumentParser(description=\"Dataset divider\")\n",
    "    parser.add_argument(\"--source\", required=True, \n",
    "                        help=\"path to source file\")\n",
    "    parser.add_argument(\"--target\", required=True, \n",
    "                        help=\"path to save output file\")\n",
    "    parser.add_argument(\"--ratio\", required=True, \n",
    "                        help=\"Train ratio, E.g. 0.7 means splitting data into 70% training and 30% testting\")\n",
    "    return parser.parse_args()"
   ]
  },
  {
   "cell_type": "code",
   "execution_count": null,
   "metadata": {},
   "outputs": [],
   "source": [
    "def main(source, target, train_ratio):\n",
    "    #get dirs\n",
    "    _, dirs, _ = next(os.walk(source))"
   ]
  },
  {
   "cell_type": "code",
   "execution_count": 25,
   "metadata": {},
   "outputs": [
    {
     "data": {
      "text/plain": [
       "['Apple___Cedar_apple_rust',\n",
       " 'Apple___Apple_scab',\n",
       " 'Apple___Black_rot',\n",
       " 'Apple___healthy']"
      ]
     },
     "execution_count": 25,
     "metadata": {},
     "output_type": "execute_result"
    }
   ],
   "source": [
    "_, dir, _ = next(os.walk(\"../Data/Plant_without_augmentation/Apple/\"))\n",
    "dir"
   ]
  },
  {
   "cell_type": "code",
   "execution_count": 27,
   "metadata": {},
   "outputs": [
    {
     "data": {
      "text/plain": [
       "4"
      ]
     },
     "execution_count": 27,
     "metadata": {},
     "output_type": "execute_result"
    }
   ],
   "source": [
    "for i in range(len(dir)):\n",
    "    path = os.path.join(source, dir[i])"
   ]
  },
  {
   "cell_type": "code",
   "execution_count": 28,
   "metadata": {},
   "outputs": [
    {
     "name": "stdout",
     "output_type": "stream",
     "text": [
      "../Data/Plant_without_augmentation/Apple/Apple___Cedar_apple_rust\n"
     ]
    }
   ],
   "source": [
    "print(os.path.join(\"../Data/Plant_without_augmentation/Apple/\", dir[0]))"
   ]
  }
 ],
 "metadata": {
  "kernelspec": {
   "display_name": "man",
   "language": "python",
   "name": "python3"
  },
  "language_info": {
   "codemirror_mode": {
    "name": "ipython",
    "version": 3
   },
   "file_extension": ".py",
   "mimetype": "text/x-python",
   "name": "python",
   "nbconvert_exporter": "python",
   "pygments_lexer": "ipython3",
   "version": "3.8.15"
  },
  "orig_nbformat": 4
 },
 "nbformat": 4,
 "nbformat_minor": 2
}
